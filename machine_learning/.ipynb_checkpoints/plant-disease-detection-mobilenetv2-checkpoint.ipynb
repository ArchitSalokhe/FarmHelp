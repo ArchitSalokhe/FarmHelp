{
 "cells": [
  {
   "cell_type": "code",
   "execution_count": 1,
   "metadata": {
    "_cell_guid": "b1076dfc-b9ad-4769-8c92-a6c4dae69d19",
    "_uuid": "8f2839f25d086af736a60e9eeb907d3b93b6e0e5",
    "execution": {
     "iopub.execute_input": "2022-01-07T18:13:06.491374Z",
     "iopub.status.busy": "2022-01-07T18:13:06.491Z",
     "iopub.status.idle": "2022-01-07T18:13:11.155781Z",
     "shell.execute_reply": "2022-01-07T18:13:11.15493Z",
     "shell.execute_reply.started": "2022-01-07T18:13:06.491275Z"
    }
   },
   "outputs": [
    {
     "ename": "ModuleNotFoundError",
     "evalue": "No module named 'tensorflow'",
     "output_type": "error",
     "traceback": [
      "\u001b[1;31m---------------------------------------------------------------------------\u001b[0m",
      "\u001b[1;31mModuleNotFoundError\u001b[0m                       Traceback (most recent call last)",
      "Cell \u001b[1;32mIn[1], line 12\u001b[0m\n\u001b[0;32m      9\u001b[0m \u001b[38;5;28;01mimport\u001b[39;00m \u001b[38;5;21;01mmatplotlib\u001b[39;00m\u001b[38;5;21;01m.\u001b[39;00m\u001b[38;5;21;01mpyplot\u001b[39;00m \u001b[38;5;28;01mas\u001b[39;00m \u001b[38;5;21;01mplt\u001b[39;00m\n\u001b[0;32m     11\u001b[0m \u001b[38;5;66;03m# Tensorflow\u001b[39;00m\n\u001b[1;32m---> 12\u001b[0m \u001b[38;5;28;01mimport\u001b[39;00m \u001b[38;5;21;01mtensorflow\u001b[39;00m \u001b[38;5;28;01mas\u001b[39;00m \u001b[38;5;21;01mtf\u001b[39;00m\n\u001b[0;32m     13\u001b[0m \u001b[38;5;28;01mfrom\u001b[39;00m \u001b[38;5;21;01mtensorflow\u001b[39;00m \u001b[38;5;28;01mimport\u001b[39;00m keras\n\u001b[0;32m     14\u001b[0m \u001b[38;5;28;01mfrom\u001b[39;00m \u001b[38;5;21;01mtensorflow\u001b[39;00m\u001b[38;5;21;01m.\u001b[39;00m\u001b[38;5;21;01mkeras\u001b[39;00m \u001b[38;5;28;01mimport\u001b[39;00m callbacks, layers, Model\n",
      "\u001b[1;31mModuleNotFoundError\u001b[0m: No module named 'tensorflow'"
     ]
    }
   ],
   "source": [
    "# Import OS module\n",
    "import os\n",
    "\n",
    "# Imports\n",
    "import numpy as np\n",
    "import pandas as pd\n",
    "\n",
    "# Visualization\n",
    "import matplotlib.pyplot as plt\n",
    "\n",
    "# Tensorflow\n",
    "import tensorflow as tf\n",
    "from tensorflow import keras\n",
    "from tensorflow.keras import callbacks, layers, Model\n",
    "from tensorflow.keras.preprocessing.image import ImageDataGenerator\n",
    "\n",
    "# Notebook magic\n",
    "%matplotlib inline"
   ]
  },
  {
   "cell_type": "code",
   "execution_count": null,
   "metadata": {
    "execution": {
     "iopub.execute_input": "2022-01-07T18:13:11.157558Z",
     "iopub.status.busy": "2022-01-07T18:13:11.157201Z",
     "iopub.status.idle": "2022-01-07T18:13:11.166019Z",
     "shell.execute_reply": "2022-01-07T18:13:11.16518Z",
     "shell.execute_reply.started": "2022-01-07T18:13:11.157521Z"
    }
   },
   "outputs": [],
   "source": [
    "tf.__version__"
   ]
  },
  {
   "cell_type": "code",
   "execution_count": null,
   "metadata": {
    "execution": {
     "iopub.execute_input": "2022-01-07T18:13:11.168367Z",
     "iopub.status.busy": "2022-01-07T18:13:11.167699Z",
     "iopub.status.idle": "2022-01-07T18:13:11.880425Z",
     "shell.execute_reply": "2022-01-07T18:13:11.87944Z",
     "shell.execute_reply.started": "2022-01-07T18:13:11.168314Z"
    }
   },
   "outputs": [],
   "source": [
    "# Check if GPU available\n",
    "!nvidia-smi"
   ]
  },
  {
   "cell_type": "code",
   "execution_count": null,
   "metadata": {
    "execution": {
     "iopub.execute_input": "2022-01-07T18:13:11.882419Z",
     "iopub.status.busy": "2022-01-07T18:13:11.882064Z",
     "iopub.status.idle": "2022-01-07T18:13:11.888056Z",
     "shell.execute_reply": "2022-01-07T18:13:11.88717Z",
     "shell.execute_reply.started": "2022-01-07T18:13:11.882385Z"
    }
   },
   "outputs": [],
   "source": [
    "# Configure variables for Transfer learning\n",
    "image_size = 224\n",
    "target_size = (image_size, image_size)\n",
    "input_shape = (image_size, image_size, 3)\n",
    "grid_shape = (1, image_size, image_size, 3)\n",
    "\n",
    "batch_size = 32"
   ]
  },
  {
   "cell_type": "markdown",
   "metadata": {},
   "source": [
    "## Load Image data\n",
    "\n",
    "We will be loading all the images in the dataset and apply augmentations to make the model prepared for all kinds of images.\n",
    "\n",
    "The Tensorflow and Keras API provides `ImageDataGenerator` for adding the augmentations to be applied to the images, and easily load them from the directory. This automatically keeps track of the class for each image and works seamlessly with the rest of the API."
   ]
  },
  {
   "cell_type": "code",
   "execution_count": null,
   "metadata": {
    "execution": {
     "iopub.execute_input": "2022-01-07T18:13:11.890159Z",
     "iopub.status.busy": "2022-01-07T18:13:11.889547Z",
     "iopub.status.idle": "2022-01-07T18:13:11.897194Z",
     "shell.execute_reply": "2022-01-07T18:13:11.896381Z",
     "shell.execute_reply.started": "2022-01-07T18:13:11.890121Z"
    }
   },
   "outputs": [],
   "source": [
    "dataset_root = \"/kaggle/input/new-plant-diseases-dataset/new plant diseases dataset(augmented)/New Plant Diseases Dataset(Augmented)\"\n",
    "\n",
    "train_dir = os.path.join(dataset_root, \"train\")\n",
    "test_dir = os.path.join(dataset_root, \"valid\")"
   ]
  },
  {
   "cell_type": "code",
   "execution_count": null,
   "metadata": {
    "execution": {
     "iopub.execute_input": "2022-01-07T18:13:14.012818Z",
     "iopub.status.busy": "2022-01-07T18:13:14.012234Z",
     "iopub.status.idle": "2022-01-07T18:14:06.878021Z",
     "shell.execute_reply": "2022-01-07T18:14:06.877213Z",
     "shell.execute_reply.started": "2022-01-07T18:13:14.012691Z"
    }
   },
   "outputs": [],
   "source": [
    "# Define augmentations for train dataset and read the images\n",
    "train_aug = ImageDataGenerator(\n",
    "    # Rescale\n",
    "    rescale=1/255.0,\n",
    "    # Filling for W/H shift\n",
    "    fill_mode=\"nearest\",\n",
    "    # Width and Height shift\n",
    "    width_shift_range=0.2,\n",
    "    height_shift_range=0.2,\n",
    "    # Random zooms\n",
    "    zoom_range=0.2,\n",
    "    # Random Shearing aug\n",
    "    shear_range=0.2,\n",
    ")\n",
    "\n",
    "# Read data from directory\n",
    "train_data = train_aug.flow_from_directory(\n",
    "    train_dir,\n",
    "    target_size=(image_size, image_size),\n",
    "    batch_size=batch_size,\n",
    "    class_mode=\"categorical\"\n",
    ")"
   ]
  },
  {
   "cell_type": "code",
   "execution_count": null,
   "metadata": {
    "execution": {
     "iopub.execute_input": "2022-01-07T18:14:06.879915Z",
     "iopub.status.busy": "2022-01-07T18:14:06.87956Z",
     "iopub.status.idle": "2022-01-07T18:14:06.886651Z",
     "shell.execute_reply": "2022-01-07T18:14:06.885565Z",
     "shell.execute_reply.started": "2022-01-07T18:14:06.879878Z"
    }
   },
   "outputs": [],
   "source": [
    "# Get the list of categories in training data\n",
    "cats = list(train_data.class_indices.keys())\n",
    "print(cats)"
   ]
  },
  {
   "cell_type": "code",
   "execution_count": null,
   "metadata": {
    "execution": {
     "iopub.execute_input": "2022-01-07T18:14:06.889132Z",
     "iopub.status.busy": "2022-01-07T18:14:06.888667Z",
     "iopub.status.idle": "2022-01-07T18:14:11.190332Z",
     "shell.execute_reply": "2022-01-07T18:14:11.189384Z",
     "shell.execute_reply.started": "2022-01-07T18:14:06.889098Z"
    }
   },
   "outputs": [],
   "source": [
    "# Augmentations for test data\n",
    "test_aug = ImageDataGenerator(\n",
    "    # Rescale\n",
    "    rescale=1/255.0\n",
    ")\n",
    "\n",
    "# Read data from directory\n",
    "test_data = test_aug.flow_from_directory(\n",
    "    test_dir,\n",
    "    target_size=(image_size, image_size),\n",
    "    batch_size=batch_size,\n",
    "    class_mode=\"categorical\"\n",
    ")"
   ]
  },
  {
   "cell_type": "markdown",
   "metadata": {},
   "source": [
    "## Model building and Training\n",
    "\n",
    "As mentioned above, We will be performing Transfer learning with Mobilenet V2 model.\n",
    "\n",
    "We get the model with pre-trained weights through API without the Top layer, and Then stack further layers for prediction.\n",
    "\n",
    "We used Global Average 2D Pooling for normalization along with dropout, and the final Dense output layer for the prediction."
   ]
  },
  {
   "cell_type": "code",
   "execution_count": null,
   "metadata": {
    "execution": {
     "iopub.execute_input": "2022-01-07T18:14:11.192238Z",
     "iopub.status.busy": "2022-01-07T18:14:11.191965Z",
     "iopub.status.idle": "2022-01-07T18:14:14.316231Z",
     "shell.execute_reply": "2022-01-07T18:14:14.315392Z",
     "shell.execute_reply.started": "2022-01-07T18:14:11.192205Z"
    }
   },
   "outputs": [],
   "source": [
    "# Load the base model\n",
    "mbnet_v2 = keras.applications.MobileNetV2(\n",
    "    weights=\"imagenet\",\n",
    "    include_top=False,\n",
    "    input_shape=input_shape\n",
    ")\n",
    "\n",
    "# Stop from being trainable\n",
    "mbnet_v2.trainable = True"
   ]
  },
  {
   "cell_type": "code",
   "execution_count": null,
   "metadata": {
    "execution": {
     "iopub.execute_input": "2022-01-07T18:17:11.33323Z",
     "iopub.status.busy": "2022-01-07T18:17:11.332791Z",
     "iopub.status.idle": "2022-01-07T18:17:11.668171Z",
     "shell.execute_reply": "2022-01-07T18:17:11.667391Z",
     "shell.execute_reply.started": "2022-01-07T18:17:11.333174Z"
    }
   },
   "outputs": [],
   "source": [
    "# Define the layers\n",
    "import tensorflow.keras.backend as K\n",
    "K.clear_session()\n",
    "inputs = keras.Input(shape=input_shape)\n",
    "\n",
    "# Get the layer\n",
    "x = mbnet_v2(inputs, training = False)\n",
    "\n",
    "# Stack layers further\n",
    "x = tf.keras.layers.GlobalAveragePooling2D()(x)\n",
    "x = tf.keras.layers.Dropout(0.2)(x)\n",
    "x = tf.keras.layers.Dense(len(cats), activation=\"softmax\")(x)\n",
    "\n",
    "# Combine the model\n",
    "model = Model(inputs=inputs, outputs=x)\n",
    "\n",
    "# Summary\n",
    "model.summary()"
   ]
  },
  {
   "cell_type": "code",
   "execution_count": null,
   "metadata": {
    "execution": {
     "iopub.execute_input": "2022-01-07T18:17:16.754156Z",
     "iopub.status.busy": "2022-01-07T18:17:16.753836Z",
     "iopub.status.idle": "2022-01-07T18:17:16.771208Z",
     "shell.execute_reply": "2022-01-07T18:17:16.770106Z",
     "shell.execute_reply.started": "2022-01-07T18:17:16.754126Z"
    }
   },
   "outputs": [],
   "source": [
    "# Compile\n",
    "model.compile(optimizer=\"adam\", loss=\"categorical_crossentropy\", metrics=[\"accuracy\"])\n",
    "\n",
    "# Define callbacks to use\n",
    "early_stopping_cb = callbacks.EarlyStopping(monitor=\"val_loss\", patience=5)\n",
    "reduce_lr = callbacks.ReduceLROnPlateau(monitor = \"val_loss\", patience = 5, factor = 0.3)"
   ]
  },
  {
   "cell_type": "code",
   "execution_count": null,
   "metadata": {
    "execution": {
     "iopub.execute_input": "2022-01-07T18:17:23.170292Z",
     "iopub.status.busy": "2022-01-07T18:17:23.169957Z",
     "iopub.status.idle": "2022-01-07T19:00:23.142616Z",
     "shell.execute_reply": "2022-01-07T19:00:23.138872Z",
     "shell.execute_reply.started": "2022-01-07T18:17:23.170259Z"
    }
   },
   "outputs": [],
   "source": [
    "# Num epochs\n",
    "epochs = 30\n",
    "\n",
    "# Train model\n",
    "history = model.fit(\n",
    "    train_data,\n",
    "    epochs=epochs,\n",
    "    steps_per_epoch = 1000, #less than train_data.n // batch_size\n",
    "    validation_data = test_data,\n",
    "    callbacks=[early_stopping_cb, reduce_lr]\n",
    ")"
   ]
  },
  {
   "cell_type": "code",
   "execution_count": null,
   "metadata": {
    "execution": {
     "iopub.execute_input": "2021-09-30T05:14:28.804307Z",
     "iopub.status.busy": "2021-09-30T05:14:28.803625Z",
     "iopub.status.idle": "2021-09-30T05:16:31.43521Z",
     "shell.execute_reply": "2021-09-30T05:16:31.434486Z",
     "shell.execute_reply.started": "2021-09-30T05:14:28.804258Z"
    }
   },
   "outputs": [],
   "source": [
    "model.evaluate(test_data)"
   ]
  },
  {
   "cell_type": "markdown",
   "metadata": {},
   "source": [
    "## Visualize the model history"
   ]
  },
  {
   "cell_type": "code",
   "execution_count": null,
   "metadata": {
    "execution": {
     "iopub.execute_input": "2021-09-30T05:16:31.437127Z",
     "iopub.status.busy": "2021-09-30T05:16:31.436535Z",
     "iopub.status.idle": "2021-09-30T05:16:31.598183Z",
     "shell.execute_reply": "2021-09-30T05:16:31.597199Z",
     "shell.execute_reply.started": "2021-09-30T05:16:31.43708Z"
    }
   },
   "outputs": [],
   "source": [
    "# Plotting\n",
    "hist = history.history\n",
    "\n",
    "# Plot accuracy and loss\n",
    "plt.plot(hist[\"accuracy\"], label=\"accuracy\")\n",
    "plt.plot(hist[\"loss\"], label=\"loss\")\n",
    "\n",
    "if \"val_accuracy\" in hist and \"val_loss\" in hist:\n",
    "    plt.plot(hist[\"val_accuracy\"], label=\"val_accuracy\")\n",
    "    plt.plot(hist[\"val_loss\"], label=\"val_loss\")\n",
    "\n",
    "# Add the labels and legend\n",
    "plt.ylabel(\"Accuracy / Loss\")\n",
    "plt.xlabel(\"Epochs #\")\n",
    "plt.legend()\n",
    "\n",
    "# Finally show the plot\n",
    "plt.show()"
   ]
  },
  {
   "cell_type": "markdown",
   "metadata": {},
   "source": [
    "## Save and download the model\n",
    "\n",
    "We save the model to a file, and link it using IPython to easily get the assets."
   ]
  },
  {
   "cell_type": "code",
   "execution_count": null,
   "metadata": {
    "execution": {
     "iopub.execute_input": "2021-09-30T05:16:31.600028Z",
     "iopub.status.busy": "2021-09-30T05:16:31.599677Z",
     "iopub.status.idle": "2021-09-30T05:16:31.825066Z",
     "shell.execute_reply": "2021-09-30T05:16:31.824176Z",
     "shell.execute_reply.started": "2021-09-30T05:16:31.599993Z"
    }
   },
   "outputs": [],
   "source": [
    "model.save(\"plant_disease_detection.h5\")"
   ]
  },
  {
   "cell_type": "code",
   "execution_count": null,
   "metadata": {
    "execution": {
     "iopub.execute_input": "2021-09-30T05:16:31.826805Z",
     "iopub.status.busy": "2021-09-30T05:16:31.826435Z",
     "iopub.status.idle": "2021-09-30T05:16:31.834033Z",
     "shell.execute_reply": "2021-09-30T05:16:31.832953Z",
     "shell.execute_reply.started": "2021-09-30T05:16:31.826768Z"
    }
   },
   "outputs": [],
   "source": [
    "import json\n",
    "\n",
    "from IPython.display import FileLink\n",
    "\n",
    "# Link the files\n",
    "FileLink(\"./plant_disease_detection.h5\")"
   ]
  },
  {
   "cell_type": "code",
   "execution_count": null,
   "metadata": {
    "execution": {
     "iopub.execute_input": "2021-09-30T05:16:31.836492Z",
     "iopub.status.busy": "2021-09-30T05:16:31.835804Z",
     "iopub.status.idle": "2021-09-30T05:16:31.844925Z",
     "shell.execute_reply": "2021-09-30T05:16:31.843857Z",
     "shell.execute_reply.started": "2021-09-30T05:16:31.836438Z"
    }
   },
   "outputs": [],
   "source": [
    "# Dump the categories\n",
    "with open(\"categories.json\", \"w\") as file:\n",
    "  json.dump(train_data.class_indices, file)\n",
    "\n",
    "# Link categories JSON\n",
    "FileLink(\"categories.json\")"
   ]
  },
  {
   "cell_type": "code",
   "execution_count": null,
   "metadata": {},
   "outputs": [],
   "source": []
  }
 ],
 "metadata": {
  "kernelspec": {
   "display_name": "Python 3 (ipykernel)",
   "language": "python",
   "name": "python3"
  },
  "language_info": {
   "codemirror_mode": {
    "name": "ipython",
    "version": 3
   },
   "file_extension": ".py",
   "mimetype": "text/x-python",
   "name": "python",
   "nbconvert_exporter": "python",
   "pygments_lexer": "ipython3",
   "version": "3.11.5"
  }
 },
 "nbformat": 4,
 "nbformat_minor": 4
}
