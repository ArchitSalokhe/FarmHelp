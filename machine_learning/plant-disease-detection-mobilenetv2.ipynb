{
 "cells": [
  {
   "cell_type": "code",
   "execution_count": 5,
   "metadata": {
    "_cell_guid": "b1076dfc-b9ad-4769-8c92-a6c4dae69d19",
    "_uuid": "8f2839f25d086af736a60e9eeb907d3b93b6e0e5",
    "execution": {
     "iopub.execute_input": "2022-01-07T18:13:06.491374Z",
     "iopub.status.busy": "2022-01-07T18:13:06.491Z",
     "iopub.status.idle": "2022-01-07T18:13:11.155781Z",
     "shell.execute_reply": "2022-01-07T18:13:11.15493Z",
     "shell.execute_reply.started": "2022-01-07T18:13:06.491275Z"
    }
   },
   "outputs": [],
   "source": [
    "# Import OS module\n",
    "import os\n",
    "\n",
    "# Imports\n",
    "import numpy as np\n",
    "import pandas as pd\n",
    "\n",
    "# Visualization\n",
    "import matplotlib.pyplot as plt\n",
    "\n",
    "# Tensorflow\n",
    "import tensorflow as tf\n",
    "from tensorflow import keras\n",
    "from tensorflow.keras import callbacks, layers, Model\n",
    "from tensorflow.keras.preprocessing.image import ImageDataGenerator\n",
    "\n",
    "# Notebook magic\n",
    "%matplotlib inline"
   ]
  },
  {
   "cell_type": "code",
   "execution_count": 6,
   "metadata": {
    "execution": {
     "iopub.execute_input": "2022-01-07T18:13:11.157558Z",
     "iopub.status.busy": "2022-01-07T18:13:11.157201Z",
     "iopub.status.idle": "2022-01-07T18:13:11.166019Z",
     "shell.execute_reply": "2022-01-07T18:13:11.16518Z",
     "shell.execute_reply.started": "2022-01-07T18:13:11.157521Z"
    }
   },
   "outputs": [
    {
     "data": {
      "text/plain": [
       "'2.16.1'"
      ]
     },
     "execution_count": 6,
     "metadata": {},
     "output_type": "execute_result"
    }
   ],
   "source": [
    "tf.__version__"
   ]
  },
  {
   "cell_type": "code",
   "execution_count": 7,
   "metadata": {
    "execution": {
     "iopub.execute_input": "2022-01-07T18:13:11.168367Z",
     "iopub.status.busy": "2022-01-07T18:13:11.167699Z",
     "iopub.status.idle": "2022-01-07T18:13:11.880425Z",
     "shell.execute_reply": "2022-01-07T18:13:11.87944Z",
     "shell.execute_reply.started": "2022-01-07T18:13:11.168314Z"
    }
   },
   "outputs": [
    {
     "name": "stderr",
     "output_type": "stream",
     "text": [
      "'nvidia-smi' is not recognized as an internal or external command,\n",
      "operable program or batch file.\n"
     ]
    }
   ],
   "source": [
    "# Check if GPU available\n",
    "!nvidia-smi"
   ]
  },
  {
   "cell_type": "code",
   "execution_count": 8,
   "metadata": {
    "execution": {
     "iopub.execute_input": "2022-01-07T18:13:11.882419Z",
     "iopub.status.busy": "2022-01-07T18:13:11.882064Z",
     "iopub.status.idle": "2022-01-07T18:13:11.888056Z",
     "shell.execute_reply": "2022-01-07T18:13:11.88717Z",
     "shell.execute_reply.started": "2022-01-07T18:13:11.882385Z"
    }
   },
   "outputs": [],
   "source": [
    "# Configure variables for Transfer learning\n",
    "image_size = 224\n",
    "target_size = (image_size, image_size)\n",
    "input_shape = (image_size, image_size, 3)\n",
    "grid_shape = (1, image_size, image_size, 3)\n",
    "\n",
    "batch_size = 32"
   ]
  },
  {
   "cell_type": "markdown",
   "metadata": {},
   "source": [
    "## Load Image data\n",
    "\n",
    "We will be loading all the images in the dataset and apply augmentations to make the model prepared for all kinds of images.\n",
    "\n",
    "The Tensorflow and Keras API provides `ImageDataGenerator` for adding the augmentations to be applied to the images, and easily load them from the directory. This automatically keeps track of the class for each image and works seamlessly with the rest of the API."
   ]
  },
  {
   "cell_type": "code",
   "execution_count": 12,
   "metadata": {
    "execution": {
     "iopub.execute_input": "2022-01-07T18:13:11.890159Z",
     "iopub.status.busy": "2022-01-07T18:13:11.889547Z",
     "iopub.status.idle": "2022-01-07T18:13:11.897194Z",
     "shell.execute_reply": "2022-01-07T18:13:11.896381Z",
     "shell.execute_reply.started": "2022-01-07T18:13:11.890121Z"
    }
   },
   "outputs": [],
   "source": [
    "dataset_root =r\"/kaggle/input/new-plant-diseases-dataset/new plant diseases dataset(augmented)/New Plant Diseases Dataset(Augmented)\"\n",
    "\n",
    "train_dir = os.path.join(dataset_root, \"train\")\n",
    "test_dir = os.path.join(dataset_root, \"valid\")"
   ]
  },
  {
   "cell_type": "code",
   "execution_count": 13,
   "metadata": {
    "execution": {
     "iopub.execute_input": "2022-01-07T18:13:14.012818Z",
     "iopub.status.busy": "2022-01-07T18:13:14.012234Z",
     "iopub.status.idle": "2022-01-07T18:14:06.878021Z",
     "shell.execute_reply": "2022-01-07T18:14:06.877213Z",
     "shell.execute_reply.started": "2022-01-07T18:13:14.012691Z"
    }
   },
   "outputs": [
    {
     "ename": "FileNotFoundError",
     "evalue": "[WinError 3] The system cannot find the path specified: '/kaggle/input/new-plant-diseases-dataset/new plant diseases dataset(augmented)/New Plant Diseases Dataset(Augmented)\\\\train'",
     "output_type": "error",
     "traceback": [
      "\u001b[1;31m---------------------------------------------------------------------------\u001b[0m",
      "\u001b[1;31mFileNotFoundError\u001b[0m                         Traceback (most recent call last)",
      "Cell \u001b[1;32mIn[13], line 17\u001b[0m\n\u001b[0;32m      2\u001b[0m train_aug \u001b[38;5;241m=\u001b[39m ImageDataGenerator(\n\u001b[0;32m      3\u001b[0m     \u001b[38;5;66;03m# Rescale\u001b[39;00m\n\u001b[0;32m      4\u001b[0m     rescale\u001b[38;5;241m=\u001b[39m\u001b[38;5;241m1\u001b[39m\u001b[38;5;241m/\u001b[39m\u001b[38;5;241m255.0\u001b[39m,\n\u001b[1;32m   (...)\u001b[0m\n\u001b[0;32m     13\u001b[0m     shear_range\u001b[38;5;241m=\u001b[39m\u001b[38;5;241m0.2\u001b[39m,\n\u001b[0;32m     14\u001b[0m )\n\u001b[0;32m     16\u001b[0m \u001b[38;5;66;03m# Read data from directory\u001b[39;00m\n\u001b[1;32m---> 17\u001b[0m train_data \u001b[38;5;241m=\u001b[39m train_aug\u001b[38;5;241m.\u001b[39mflow_from_directory(\n\u001b[0;32m     18\u001b[0m     train_dir,\n\u001b[0;32m     19\u001b[0m     target_size\u001b[38;5;241m=\u001b[39m(image_size, image_size),\n\u001b[0;32m     20\u001b[0m     batch_size\u001b[38;5;241m=\u001b[39mbatch_size,\n\u001b[0;32m     21\u001b[0m     class_mode\u001b[38;5;241m=\u001b[39m\u001b[38;5;124m\"\u001b[39m\u001b[38;5;124mcategorical\u001b[39m\u001b[38;5;124m\"\u001b[39m\n\u001b[0;32m     22\u001b[0m )\n",
      "File \u001b[1;32m~\\anaconda3\\Lib\\site-packages\\keras\\src\\legacy\\preprocessing\\image.py:1138\u001b[0m, in \u001b[0;36mImageDataGenerator.flow_from_directory\u001b[1;34m(self, directory, target_size, color_mode, classes, class_mode, batch_size, shuffle, seed, save_to_dir, save_prefix, save_format, follow_links, subset, interpolation, keep_aspect_ratio)\u001b[0m\n\u001b[0;32m   1120\u001b[0m \u001b[38;5;28;01mdef\u001b[39;00m \u001b[38;5;21mflow_from_directory\u001b[39m(\n\u001b[0;32m   1121\u001b[0m     \u001b[38;5;28mself\u001b[39m,\n\u001b[0;32m   1122\u001b[0m     directory,\n\u001b[1;32m   (...)\u001b[0m\n\u001b[0;32m   1136\u001b[0m     keep_aspect_ratio\u001b[38;5;241m=\u001b[39m\u001b[38;5;28;01mFalse\u001b[39;00m,\n\u001b[0;32m   1137\u001b[0m ):\n\u001b[1;32m-> 1138\u001b[0m     \u001b[38;5;28;01mreturn\u001b[39;00m DirectoryIterator(\n\u001b[0;32m   1139\u001b[0m         directory,\n\u001b[0;32m   1140\u001b[0m         \u001b[38;5;28mself\u001b[39m,\n\u001b[0;32m   1141\u001b[0m         target_size\u001b[38;5;241m=\u001b[39mtarget_size,\n\u001b[0;32m   1142\u001b[0m         color_mode\u001b[38;5;241m=\u001b[39mcolor_mode,\n\u001b[0;32m   1143\u001b[0m         keep_aspect_ratio\u001b[38;5;241m=\u001b[39mkeep_aspect_ratio,\n\u001b[0;32m   1144\u001b[0m         classes\u001b[38;5;241m=\u001b[39mclasses,\n\u001b[0;32m   1145\u001b[0m         class_mode\u001b[38;5;241m=\u001b[39mclass_mode,\n\u001b[0;32m   1146\u001b[0m         data_format\u001b[38;5;241m=\u001b[39m\u001b[38;5;28mself\u001b[39m\u001b[38;5;241m.\u001b[39mdata_format,\n\u001b[0;32m   1147\u001b[0m         batch_size\u001b[38;5;241m=\u001b[39mbatch_size,\n\u001b[0;32m   1148\u001b[0m         shuffle\u001b[38;5;241m=\u001b[39mshuffle,\n\u001b[0;32m   1149\u001b[0m         seed\u001b[38;5;241m=\u001b[39mseed,\n\u001b[0;32m   1150\u001b[0m         save_to_dir\u001b[38;5;241m=\u001b[39msave_to_dir,\n\u001b[0;32m   1151\u001b[0m         save_prefix\u001b[38;5;241m=\u001b[39msave_prefix,\n\u001b[0;32m   1152\u001b[0m         save_format\u001b[38;5;241m=\u001b[39msave_format,\n\u001b[0;32m   1153\u001b[0m         follow_links\u001b[38;5;241m=\u001b[39mfollow_links,\n\u001b[0;32m   1154\u001b[0m         subset\u001b[38;5;241m=\u001b[39msubset,\n\u001b[0;32m   1155\u001b[0m         interpolation\u001b[38;5;241m=\u001b[39minterpolation,\n\u001b[0;32m   1156\u001b[0m         dtype\u001b[38;5;241m=\u001b[39m\u001b[38;5;28mself\u001b[39m\u001b[38;5;241m.\u001b[39mdtype,\n\u001b[0;32m   1157\u001b[0m     )\n",
      "File \u001b[1;32m~\\anaconda3\\Lib\\site-packages\\keras\\src\\legacy\\preprocessing\\image.py:453\u001b[0m, in \u001b[0;36mDirectoryIterator.__init__\u001b[1;34m(self, directory, image_data_generator, target_size, color_mode, classes, class_mode, batch_size, shuffle, seed, data_format, save_to_dir, save_prefix, save_format, follow_links, subset, interpolation, keep_aspect_ratio, dtype)\u001b[0m\n\u001b[0;32m    451\u001b[0m \u001b[38;5;28;01mif\u001b[39;00m \u001b[38;5;129;01mnot\u001b[39;00m classes:\n\u001b[0;32m    452\u001b[0m     classes \u001b[38;5;241m=\u001b[39m []\n\u001b[1;32m--> 453\u001b[0m     \u001b[38;5;28;01mfor\u001b[39;00m subdir \u001b[38;5;129;01min\u001b[39;00m \u001b[38;5;28msorted\u001b[39m(os\u001b[38;5;241m.\u001b[39mlistdir(directory)):\n\u001b[0;32m    454\u001b[0m         \u001b[38;5;28;01mif\u001b[39;00m os\u001b[38;5;241m.\u001b[39mpath\u001b[38;5;241m.\u001b[39misdir(os\u001b[38;5;241m.\u001b[39mpath\u001b[38;5;241m.\u001b[39mjoin(directory, subdir)):\n\u001b[0;32m    455\u001b[0m             classes\u001b[38;5;241m.\u001b[39mappend(subdir)\n",
      "\u001b[1;31mFileNotFoundError\u001b[0m: [WinError 3] The system cannot find the path specified: '/kaggle/input/new-plant-diseases-dataset/new plant diseases dataset(augmented)/New Plant Diseases Dataset(Augmented)\\\\train'"
     ]
    }
   ],
   "source": [
    "# Define augmentations for train dataset and read the images\n",
    "train_aug = ImageDataGenerator(\n",
    "    # Rescale\n",
    "    rescale=1/255.0,\n",
    "    # Filling for W/H shift\n",
    "    fill_mode=\"nearest\",\n",
    "    # Width and Height shift\n",
    "    width_shift_range=0.2,\n",
    "    height_shift_range=0.2,\n",
    "    # Random zooms\n",
    "    zoom_range=0.2,\n",
    "    # Random Shearing aug\n",
    "    shear_range=0.2,\n",
    ")\n",
    "\n",
    "# Read data from directory\n",
    "train_data = train_aug.flow_from_directory(\n",
    "    train_dir,\n",
    "    target_size=(image_size, image_size),\n",
    "    batch_size=batch_size,\n",
    "    class_mode=\"categorical\"\n",
    ")"
   ]
  },
  {
   "cell_type": "code",
   "execution_count": 11,
   "metadata": {
    "execution": {
     "iopub.execute_input": "2022-01-07T18:14:06.879915Z",
     "iopub.status.busy": "2022-01-07T18:14:06.87956Z",
     "iopub.status.idle": "2022-01-07T18:14:06.886651Z",
     "shell.execute_reply": "2022-01-07T18:14:06.885565Z",
     "shell.execute_reply.started": "2022-01-07T18:14:06.879878Z"
    }
   },
   "outputs": [
    {
     "ename": "NameError",
     "evalue": "name 'train_data' is not defined",
     "output_type": "error",
     "traceback": [
      "\u001b[1;31m---------------------------------------------------------------------------\u001b[0m",
      "\u001b[1;31mNameError\u001b[0m                                 Traceback (most recent call last)",
      "Cell \u001b[1;32mIn[11], line 2\u001b[0m\n\u001b[0;32m      1\u001b[0m \u001b[38;5;66;03m# Get the list of categories in training data\u001b[39;00m\n\u001b[1;32m----> 2\u001b[0m cats \u001b[38;5;241m=\u001b[39m \u001b[38;5;28mlist\u001b[39m(train_data\u001b[38;5;241m.\u001b[39mclass_indices\u001b[38;5;241m.\u001b[39mkeys())\n\u001b[0;32m      3\u001b[0m \u001b[38;5;28mprint\u001b[39m(cats)\n",
      "\u001b[1;31mNameError\u001b[0m: name 'train_data' is not defined"
     ]
    }
   ],
   "source": [
    "# Get the list of categories in training data\n",
    "cats = list(train_data.class_indices.keys())\n",
    "print(cats)"
   ]
  },
  {
   "cell_type": "code",
   "execution_count": null,
   "metadata": {
    "execution": {
     "iopub.execute_input": "2022-01-07T18:14:06.889132Z",
     "iopub.status.busy": "2022-01-07T18:14:06.888667Z",
     "iopub.status.idle": "2022-01-07T18:14:11.190332Z",
     "shell.execute_reply": "2022-01-07T18:14:11.189384Z",
     "shell.execute_reply.started": "2022-01-07T18:14:06.889098Z"
    }
   },
   "outputs": [],
   "source": [
    "# Augmentations for test data\n",
    "test_aug = ImageDataGenerator(\n",
    "    # Rescale\n",
    "    rescale=1/255.0\n",
    ")\n",
    "\n",
    "# Read data from directory\n",
    "test_data = test_aug.flow_from_directory(\n",
    "    test_dir,\n",
    "    target_size=(image_size, image_size),\n",
    "    batch_size=batch_size,\n",
    "    class_mode=\"categorical\"\n",
    ")"
   ]
  },
  {
   "cell_type": "markdown",
   "metadata": {},
   "source": [
    "## Model building and Training\n",
    "\n",
    "As mentioned above, We will be performing Transfer learning with Mobilenet V2 model.\n",
    "\n",
    "We get the model with pre-trained weights through API without the Top layer, and Then stack further layers for prediction.\n",
    "\n",
    "We used Global Average 2D Pooling for normalization along with dropout, and the final Dense output layer for the prediction."
   ]
  },
  {
   "cell_type": "code",
   "execution_count": null,
   "metadata": {
    "execution": {
     "iopub.execute_input": "2022-01-07T18:14:11.192238Z",
     "iopub.status.busy": "2022-01-07T18:14:11.191965Z",
     "iopub.status.idle": "2022-01-07T18:14:14.316231Z",
     "shell.execute_reply": "2022-01-07T18:14:14.315392Z",
     "shell.execute_reply.started": "2022-01-07T18:14:11.192205Z"
    }
   },
   "outputs": [],
   "source": [
    "# Load the base model\n",
    "mbnet_v2 = keras.applications.MobileNetV2(\n",
    "    weights=\"imagenet\",\n",
    "    include_top=False,\n",
    "    input_shape=input_shape\n",
    ")\n",
    "\n",
    "# Stop from being trainable\n",
    "mbnet_v2.trainable = True"
   ]
  },
  {
   "cell_type": "code",
   "execution_count": null,
   "metadata": {
    "execution": {
     "iopub.execute_input": "2022-01-07T18:17:11.33323Z",
     "iopub.status.busy": "2022-01-07T18:17:11.332791Z",
     "iopub.status.idle": "2022-01-07T18:17:11.668171Z",
     "shell.execute_reply": "2022-01-07T18:17:11.667391Z",
     "shell.execute_reply.started": "2022-01-07T18:17:11.333174Z"
    }
   },
   "outputs": [],
   "source": [
    "# Define the layers\n",
    "import tensorflow.keras.backend as K\n",
    "K.clear_session()\n",
    "inputs = keras.Input(shape=input_shape)\n",
    "\n",
    "# Get the layer\n",
    "x = mbnet_v2(inputs, training = False)\n",
    "\n",
    "# Stack layers further\n",
    "x = tf.keras.layers.GlobalAveragePooling2D()(x)\n",
    "x = tf.keras.layers.Dropout(0.2)(x)\n",
    "x = tf.keras.layers.Dense(len(cats), activation=\"softmax\")(x)\n",
    "\n",
    "# Combine the model\n",
    "model = Model(inputs=inputs, outputs=x)\n",
    "\n",
    "# Summary\n",
    "model.summary()"
   ]
  },
  {
   "cell_type": "code",
   "execution_count": null,
   "metadata": {
    "execution": {
     "iopub.execute_input": "2022-01-07T18:17:16.754156Z",
     "iopub.status.busy": "2022-01-07T18:17:16.753836Z",
     "iopub.status.idle": "2022-01-07T18:17:16.771208Z",
     "shell.execute_reply": "2022-01-07T18:17:16.770106Z",
     "shell.execute_reply.started": "2022-01-07T18:17:16.754126Z"
    }
   },
   "outputs": [],
   "source": [
    "# Compile\n",
    "model.compile(optimizer=\"adam\", loss=\"categorical_crossentropy\", metrics=[\"accuracy\"])\n",
    "\n",
    "# Define callbacks to use\n",
    "early_stopping_cb = callbacks.EarlyStopping(monitor=\"val_loss\", patience=5)\n",
    "reduce_lr = callbacks.ReduceLROnPlateau(monitor = \"val_loss\", patience = 5, factor = 0.3)"
   ]
  },
  {
   "cell_type": "code",
   "execution_count": null,
   "metadata": {
    "execution": {
     "iopub.execute_input": "2022-01-07T18:17:23.170292Z",
     "iopub.status.busy": "2022-01-07T18:17:23.169957Z",
     "iopub.status.idle": "2022-01-07T19:00:23.142616Z",
     "shell.execute_reply": "2022-01-07T19:00:23.138872Z",
     "shell.execute_reply.started": "2022-01-07T18:17:23.170259Z"
    }
   },
   "outputs": [],
   "source": [
    "# Num epochs\n",
    "epochs = 30\n",
    "\n",
    "# Train model\n",
    "history = model.fit(\n",
    "    train_data,\n",
    "    epochs=epochs,\n",
    "    steps_per_epoch = 1000, #less than train_data.n // batch_size\n",
    "    validation_data = test_data,\n",
    "    callbacks=[early_stopping_cb, reduce_lr]\n",
    ")"
   ]
  },
  {
   "cell_type": "code",
   "execution_count": null,
   "metadata": {
    "execution": {
     "iopub.execute_input": "2021-09-30T05:14:28.804307Z",
     "iopub.status.busy": "2021-09-30T05:14:28.803625Z",
     "iopub.status.idle": "2021-09-30T05:16:31.43521Z",
     "shell.execute_reply": "2021-09-30T05:16:31.434486Z",
     "shell.execute_reply.started": "2021-09-30T05:14:28.804258Z"
    }
   },
   "outputs": [],
   "source": [
    "model.evaluate(test_data)"
   ]
  },
  {
   "cell_type": "markdown",
   "metadata": {},
   "source": [
    "## Visualize the model history"
   ]
  },
  {
   "cell_type": "code",
   "execution_count": null,
   "metadata": {
    "execution": {
     "iopub.execute_input": "2021-09-30T05:16:31.437127Z",
     "iopub.status.busy": "2021-09-30T05:16:31.436535Z",
     "iopub.status.idle": "2021-09-30T05:16:31.598183Z",
     "shell.execute_reply": "2021-09-30T05:16:31.597199Z",
     "shell.execute_reply.started": "2021-09-30T05:16:31.43708Z"
    }
   },
   "outputs": [],
   "source": [
    "# Plotting\n",
    "hist = history.history\n",
    "\n",
    "# Plot accuracy and loss\n",
    "plt.plot(hist[\"accuracy\"], label=\"accuracy\")\n",
    "plt.plot(hist[\"loss\"], label=\"loss\")\n",
    "\n",
    "if \"val_accuracy\" in hist and \"val_loss\" in hist:\n",
    "    plt.plot(hist[\"val_accuracy\"], label=\"val_accuracy\")\n",
    "    plt.plot(hist[\"val_loss\"], label=\"val_loss\")\n",
    "\n",
    "# Add the labels and legend\n",
    "plt.ylabel(\"Accuracy / Loss\")\n",
    "plt.xlabel(\"Epochs #\")\n",
    "plt.legend()\n",
    "\n",
    "# Finally show the plot\n",
    "plt.show()"
   ]
  },
  {
   "cell_type": "markdown",
   "metadata": {},
   "source": [
    "## Save and download the model\n",
    "\n",
    "We save the model to a file, and link it using IPython to easily get the assets."
   ]
  },
  {
   "cell_type": "code",
   "execution_count": null,
   "metadata": {
    "execution": {
     "iopub.execute_input": "2021-09-30T05:16:31.600028Z",
     "iopub.status.busy": "2021-09-30T05:16:31.599677Z",
     "iopub.status.idle": "2021-09-30T05:16:31.825066Z",
     "shell.execute_reply": "2021-09-30T05:16:31.824176Z",
     "shell.execute_reply.started": "2021-09-30T05:16:31.599993Z"
    }
   },
   "outputs": [],
   "source": [
    "model.save(\"plant_disease_detection.h5\")"
   ]
  },
  {
   "cell_type": "code",
   "execution_count": null,
   "metadata": {
    "execution": {
     "iopub.execute_input": "2021-09-30T05:16:31.826805Z",
     "iopub.status.busy": "2021-09-30T05:16:31.826435Z",
     "iopub.status.idle": "2021-09-30T05:16:31.834033Z",
     "shell.execute_reply": "2021-09-30T05:16:31.832953Z",
     "shell.execute_reply.started": "2021-09-30T05:16:31.826768Z"
    }
   },
   "outputs": [],
   "source": [
    "import json\n",
    "\n",
    "from IPython.display import FileLink\n",
    "\n",
    "# Link the files\n",
    "FileLink(\"./plant_disease_detection.h5\")"
   ]
  },
  {
   "cell_type": "code",
   "execution_count": null,
   "metadata": {
    "execution": {
     "iopub.execute_input": "2021-09-30T05:16:31.836492Z",
     "iopub.status.busy": "2021-09-30T05:16:31.835804Z",
     "iopub.status.idle": "2021-09-30T05:16:31.844925Z",
     "shell.execute_reply": "2021-09-30T05:16:31.843857Z",
     "shell.execute_reply.started": "2021-09-30T05:16:31.836438Z"
    }
   },
   "outputs": [],
   "source": [
    "# Dump the categories\n",
    "with open(\"categories.json\", \"w\") as file:\n",
    "  json.dump(train_data.class_indices, file)\n",
    "\n",
    "# Link categories JSON\n",
    "FileLink(\"categories.json\")"
   ]
  },
  {
   "cell_type": "code",
   "execution_count": null,
   "metadata": {},
   "outputs": [],
   "source": []
  }
 ],
 "metadata": {
  "kernelspec": {
   "display_name": "Python 3 (ipykernel)",
   "language": "python",
   "name": "python3"
  },
  "language_info": {
   "codemirror_mode": {
    "name": "ipython",
    "version": 3
   },
   "file_extension": ".py",
   "mimetype": "text/x-python",
   "name": "python",
   "nbconvert_exporter": "python",
   "pygments_lexer": "ipython3",
   "version": "3.11.5"
  }
 },
 "nbformat": 4,
 "nbformat_minor": 4
}
